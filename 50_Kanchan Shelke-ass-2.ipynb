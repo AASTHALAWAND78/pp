{
 "cells": [
  {
   "cell_type": "markdown",
   "id": "df394312",
   "metadata": {},
   "source": [
    "### Name: Kanchan Shelke\n",
    "### Roll No:2347050"
   ]
  },
  {
   "cell_type": "markdown",
   "id": "c8b2ee3e",
   "metadata": {},
   "source": [
    "# <center> Assignment No-2"
   ]
  },
  {
   "cell_type": "markdown",
   "id": "d5f38170",
   "metadata": {},
   "source": [
    " Implement a program for retrieval of documents using inverted files. "
   ]
  },
  {
   "cell_type": "code",
   "execution_count": 1,
   "id": "16f43a53",
   "metadata": {},
   "outputs": [],
   "source": [
    "documents = {\n",
    "    1: \"This is the first document.\",\n",
    "    2: \"The second document contains some words.\",\n",
    "    3: \"This is the third document, and it's a long one.\",\n",
    "    4: \"This is the fourth document, and it's also a long one.\",\n",
    "    5: \"The fifth document is short.\",\n",
    "}\n"
   ]
  },
  {
   "cell_type": "code",
   "execution_count": 2,
   "id": "2fc43387",
   "metadata": {},
   "outputs": [],
   "source": [
    "def build_inverted_index(documents):\n",
    "    inverted_index = {}\n",
    "    for doc_id, text in documents.items():\n",
    "        words = text.split()\n",
    "        for word in words:\n",
    "            if word not in inverted_index:\n",
    "                inverted_index[word] = set()\n",
    "            inverted_index[word].add(doc_id)\n",
    "    return inverted_index\n",
    "\n",
    "inverted_index = build_inverted_index(documents)\n"
   ]
  },
  {
   "cell_type": "code",
   "execution_count": 3,
   "id": "017f785c",
   "metadata": {},
   "outputs": [
    {
     "data": {
      "text/plain": [
       "{'This': {1, 3, 4},\n",
       " 'is': {1, 3, 4},\n",
       " 'the': {1, 4},\n",
       " 'first': {1},\n",
       " 'document.': {1},\n",
       " 'The': {2, 5},\n",
       " 'second': {2},\n",
       " 'contains': {2},\n",
       " 'some': {2},\n",
       " 'words.': {2},\n",
       " 'third': {3},\n",
       " 'and': {3, 4},\n",
       " \"it's\": {3, 4},\n",
       " 'a': {3, 4, 5},\n",
       " 'long': {3, 4},\n",
       " 'fourth': {4},\n",
       " 'also': {4},\n",
       " 'fifth': {5},\n",
       " 'short.': {5}}"
      ]
     },
     "execution_count": 3,
     "metadata": {},
     "output_type": "execute_result"
    }
   ],
   "source": [
    "{\n",
    "    'This': {1, 3, 4},\n",
    "    'is': {1, 3, 4},\n",
    "    'the': {1, 4},\n",
    "    'first': {1},\n",
    "    'document.': {1},\n",
    "    'The': {2, 5},\n",
    "    'second': {2},\n",
    "    'contains': {2},\n",
    "    'some': {2},\n",
    "    'words.': {2},\n",
    "    'third': {3},\n",
    "    'and': {3, 4},\n",
    "    \"it's\": {3, 4},\n",
    "    'a': {3, 4, 5},\n",
    "    'long': {3, 4},\n",
    "    'fourth': {4},\n",
    "    'also': {4},\n",
    "    'fifth': {5},\n",
    "    'short.': {5}\n",
    "}\n"
   ]
  },
  {
   "cell_type": "code",
   "execution_count": 4,
   "id": "1ae55063",
   "metadata": {},
   "outputs": [
    {
     "name": "stdout",
     "output_type": "stream",
     "text": [
      "Documents matching the query: {1, 3, 4}\n"
     ]
    }
   ],
   "source": [
    "def retrieve_documents(query, inverted_index):\n",
    "    query_words = query.split()\n",
    "    result = set()\n",
    "    if query_words[0] in inverted_index:\n",
    "        result = inverted_index[query_words[0]]\n",
    "    for word in query_words[1:]:\n",
    "        if word in inverted_index:\n",
    "            result = result.intersection(inverted_index[word])\n",
    "    return result\n",
    "\n",
    "query = \"This is the\"\n",
    "matching_docs = retrieve_documents(query, inverted_index)\n",
    "print(\"Documents matching the query:\", matching_docs)\n"
   ]
  }
 ],
 "metadata": {
  "kernelspec": {
   "display_name": "Python 3 (ipykernel)",
   "language": "python",
   "name": "python3"
  },
  "language_info": {
   "codemirror_mode": {
    "name": "ipython",
    "version": 3
   },
   "file_extension": ".py",
   "mimetype": "text/x-python",
   "name": "python",
   "nbconvert_exporter": "python",
   "pygments_lexer": "ipython3",
   "version": "3.9.13"
  }
 },
 "nbformat": 4,
 "nbformat_minor": 5
}
