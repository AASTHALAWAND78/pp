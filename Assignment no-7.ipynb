{
 "cells": [
  {
   "cell_type": "markdown",
   "id": "db46c01d",
   "metadata": {},
   "source": [
    "<h3> <center> Assignment no-7"
   ]
  },
  {
   "cell_type": "code",
   "execution_count": 1,
   "id": "42e242ca",
   "metadata": {},
   "outputs": [],
   "source": [
    "from bs4 import BeautifulSoup\n",
    "import requests\n",
    "\n",
    "url='https://www.thehindu.com/news/national/coronavirus-live-updates-may-29-2021/article34672944.ece?homepage=true'\n",
    "page= requests.get(url)"
   ]
  },
  {
   "cell_type": "code",
   "execution_count": 2,
   "id": "d43df96d",
   "metadata": {},
   "outputs": [
    {
     "data": {
      "text/plain": [
       "<Response [200]>"
      ]
     },
     "execution_count": 2,
     "metadata": {},
     "output_type": "execute_result"
    }
   ],
   "source": [
    "page"
   ]
  },
  {
   "cell_type": "code",
   "execution_count": 3,
   "id": "5c1b7a30",
   "metadata": {},
   "outputs": [],
   "source": [
    "#parse the data\n",
    "soup= BeautifulSoup(page.content,'html.parser')"
   ]
  },
  {
   "cell_type": "code",
   "execution_count": 4,
   "id": "9326438a",
   "metadata": {},
   "outputs": [
    {
     "data": {
      "text/plain": [
       "<source media=\"(min-width: 1600px)\" sizes=\"960px\" srcset=\"https://th-i.thgim.com/public/news/national/2g2qwq/article53557510.ece/alternates/LANDSCAPE_1200/Migrants2jpg\"/>"
      ]
     },
     "execution_count": 4,
     "metadata": {},
     "output_type": "execute_result"
    }
   ],
   "source": [
    "#find the image src link\n",
    "img_tag= soup.find('source')\n",
    "img_tag"
   ]
  },
  {
   "cell_type": "code",
   "execution_count": 5,
   "id": "2ffae9a1",
   "metadata": {},
   "outputs": [
    {
     "data": {
      "text/plain": [
       "'https://th-i.thgim.com/public/news/national/2g2qwq/article53557510.ece/alternates/LANDSCAPE_1200/Migrants2jpg'"
      ]
     },
     "execution_count": 5,
     "metadata": {},
     "output_type": "execute_result"
    }
   ],
   "source": [
    "img_tag['srcset']"
   ]
  },
  {
   "cell_type": "code",
   "execution_count": 6,
   "id": "881860f0",
   "metadata": {},
   "outputs": [],
   "source": [
    "img_url=img_tag['srcset']"
   ]
  },
  {
   "cell_type": "markdown",
   "id": "e3bab540",
   "metadata": {},
   "source": [
    "### download image from url"
   ]
  },
  {
   "cell_type": "code",
   "execution_count": 7,
   "id": "4df2c5ed",
   "metadata": {},
   "outputs": [],
   "source": [
    "image = requests.get(img_url)"
   ]
  },
  {
   "cell_type": "code",
   "execution_count": 8,
   "id": "d5ecd346",
   "metadata": {},
   "outputs": [],
   "source": [
    "#store the image  in file\n",
    "with open ('image.jpg','wb') as file:\n",
    "    for chunk in image.iter_content(chunk_size=1024):\n",
    "        file.write(chunk)"
   ]
  },
  {
   "cell_type": "markdown",
   "id": "7c302658",
   "metadata": {},
   "source": [
    "### download ppt from url"
   ]
  },
  {
   "cell_type": "code",
   "execution_count": 9,
   "id": "fb1bfa32",
   "metadata": {},
   "outputs": [],
   "source": [
    "ppt= requests.get('http://www.howtowebscrape.com/examples/media/images/SampleSlides.pptx')"
   ]
  },
  {
   "cell_type": "code",
   "execution_count": 10,
   "id": "e46d7763",
   "metadata": {},
   "outputs": [],
   "source": [
    "with open ('sample.pptx','wb') as file:\n",
    "    for chunk in image.iter_content(chunk_size=1024):\n",
    "        file.write(chunk)"
   ]
  },
  {
   "cell_type": "markdown",
   "id": "292d785b",
   "metadata": {},
   "source": [
    "### download video from url"
   ]
  },
  {
   "cell_type": "code",
   "execution_count": 11,
   "id": "0c303c65",
   "metadata": {},
   "outputs": [],
   "source": [
    "video = requests.get('http://www.howtowebscrape.com/examples/media/images/BigRabbit.mp4')"
   ]
  },
  {
   "cell_type": "code",
   "execution_count": 12,
   "id": "862b6423",
   "metadata": {},
   "outputs": [],
   "source": [
    "with open ('BigRabbit.mp4','wb') as file:\n",
    "    for chunk in image.iter_content(chunk_size=1024):\n",
    "        file.write(chunk)"
   ]
  }
 ],
 "metadata": {
  "kernelspec": {
   "display_name": "Python 3 (ipykernel)",
   "language": "python",
   "name": "python3"
  },
  "language_info": {
   "codemirror_mode": {
    "name": "ipython",
    "version": 3
   },
   "file_extension": ".py",
   "mimetype": "text/x-python",
   "name": "python",
   "nbconvert_exporter": "python",
   "pygments_lexer": "ipython3",
   "version": "3.9.13"
  }
 },
 "nbformat": 4,
 "nbformat_minor": 5
}
